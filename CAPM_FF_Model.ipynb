{
  "nbformat": 4,
  "nbformat_minor": 0,
  "metadata": {
    "colab": {
      "name": "CAPM-FF Model ",
      "provenance": [],
      "include_colab_link": true
    },
    "kernelspec": {
      "name": "python3",
      "display_name": "Python 3"
    },
    "language_info": {
      "name": "python"
    }
  },
  "cells": [
    {
      "cell_type": "markdown",
      "metadata": {
        "id": "view-in-github",
        "colab_type": "text"
      },
      "source": [
        "<a href=\"https://colab.research.google.com/github/sangameshks/Covid-India-Twitter-Analysis/blob/master/CAPM_FF_Model.ipynb\" target=\"_parent\"><img src=\"https://colab.research.google.com/assets/colab-badge.svg\" alt=\"Open In Colab\"/></a>"
      ]
    },
    {
      "cell_type": "code",
      "source": [
        "!pip install --upgrade pandas\n",
        "!pip install --upgrade pandas-datareader\n",
        "exit()"
      ],
      "metadata": {
        "colab": {
          "base_uri": "https://localhost:8080/"
        },
        "id": "V6lBPaaKG3TB",
        "outputId": "2235f8c5-f37f-4bd5-8155-63d943e90df5"
      },
      "execution_count": 1,
      "outputs": [
        {
          "output_type": "stream",
          "name": "stdout",
          "text": [
            "Requirement already satisfied: pandas in /usr/local/lib/python3.7/dist-packages (1.3.5)\n",
            "Requirement already satisfied: numpy>=1.17.3 in /usr/local/lib/python3.7/dist-packages (from pandas) (1.19.5)\n",
            "Requirement already satisfied: pytz>=2017.3 in /usr/local/lib/python3.7/dist-packages (from pandas) (2018.9)\n",
            "Requirement already satisfied: python-dateutil>=2.7.3 in /usr/local/lib/python3.7/dist-packages (from pandas) (2.8.2)\n",
            "Requirement already satisfied: six>=1.5 in /usr/local/lib/python3.7/dist-packages (from python-dateutil>=2.7.3->pandas) (1.15.0)\n",
            "Requirement already satisfied: pandas-datareader in /usr/local/lib/python3.7/dist-packages (0.10.0)\n",
            "Requirement already satisfied: pandas>=0.23 in /usr/local/lib/python3.7/dist-packages (from pandas-datareader) (1.3.5)\n",
            "Requirement already satisfied: lxml in /usr/local/lib/python3.7/dist-packages (from pandas-datareader) (4.2.6)\n",
            "Requirement already satisfied: requests>=2.19.0 in /usr/local/lib/python3.7/dist-packages (from pandas-datareader) (2.23.0)\n",
            "Requirement already satisfied: python-dateutil>=2.7.3 in /usr/local/lib/python3.7/dist-packages (from pandas>=0.23->pandas-datareader) (2.8.2)\n",
            "Requirement already satisfied: numpy>=1.17.3 in /usr/local/lib/python3.7/dist-packages (from pandas>=0.23->pandas-datareader) (1.19.5)\n",
            "Requirement already satisfied: pytz>=2017.3 in /usr/local/lib/python3.7/dist-packages (from pandas>=0.23->pandas-datareader) (2018.9)\n",
            "Requirement already satisfied: six>=1.5 in /usr/local/lib/python3.7/dist-packages (from python-dateutil>=2.7.3->pandas>=0.23->pandas-datareader) (1.15.0)\n",
            "Requirement already satisfied: urllib3!=1.25.0,!=1.25.1,<1.26,>=1.21.1 in /usr/local/lib/python3.7/dist-packages (from requests>=2.19.0->pandas-datareader) (1.24.3)\n",
            "Requirement already satisfied: chardet<4,>=3.0.2 in /usr/local/lib/python3.7/dist-packages (from requests>=2.19.0->pandas-datareader) (3.0.4)\n",
            "Requirement already satisfied: certifi>=2017.4.17 in /usr/local/lib/python3.7/dist-packages (from requests>=2.19.0->pandas-datareader) (2021.10.8)\n",
            "Requirement already satisfied: idna<3,>=2.5 in /usr/local/lib/python3.7/dist-packages (from requests>=2.19.0->pandas-datareader) (2.10)\n"
          ]
        }
      ]
    },
    {
      "cell_type": "code",
      "execution_count": 5,
      "metadata": {
        "id": "9TJPvAHIPmnV"
      },
      "outputs": [],
      "source": [
        "from enum import unique\n",
        "\n",
        "import numpy as np\n",
        "import pandas as pd\n",
        "import statsmodels.api as sm\n",
        "import matplotlib.pyplot as plt\n",
        "import datetime as dt\n",
        "import pandas_datareader as pdr\n",
        "\n",
        "start_date = dt.datetime(2020, 1, 1)\n",
        "end_date = dt.datetime(2021,1,1)\n",
        "tickers_list = ['^GSPC', #Index S&P 500\n",
        "                'MSFT', # ticker 1 microsoft\n",
        "                'ADBE', # ticker 2 Adobe\n",
        "                \"TSLA\", # ticker 3 Tesla\n",
        "                \"NFLX\", # ticker 4 netflix\n",
        "                \"AAPL\", #ticker 5 Apple\n",
        "                \"HD\", # tciker 6 Home Depot\n",
        "                \"WMT\", # tciker 7 Walmart\n",
        "                \"PG\", # ticker 8 Procter & Gamble Company\n",
        "                \"BABA\", #ticker 9 Alibaba\n",
        "                \"PFE\"] # ticker 10 #Pfizer\n",
        "\n",
        "# Create placeholder for data\n",
        "data = pd.DataFrame() \n",
        "\n",
        "# Fetch the data\n",
        "for ticker in tickers_list:\n",
        "    df = pdr.get_data_yahoo(ticker, start_date, end_date)\n",
        "    df['ticker'] = ticker\n",
        "    data = data.append(df)\n",
        "\n",
        "\n",
        "data['ticker'].replace({\"^GSPC\":\"S&P500\"},inplace=True)\n"
      ]
    },
    {
      "cell_type": "code",
      "source": [
        "data = data.pivot_table(index='Date', columns='ticker', values='Close')\n"
      ],
      "metadata": {
        "id": "YK-hZfcqno0m"
      },
      "execution_count": 6,
      "outputs": []
    },
    {
      "cell_type": "code",
      "source": [
        "# returns\n",
        "log_returns = np.log(data/data.shift())\n",
        "log_returns = log_returns.dropna()\n",
        "# factor\n",
        "factors = pdr.get_data_famafrench('F-F_Research_Data_Factors_Daily', start_date, end_date)[0]\n",
        "factors = factors[1:]\n",
        "merge = pd.merge(log_returns, factors, how = 'left', on = ['Date'],)\n"
      ],
      "metadata": {
        "id": "F_jw8K3GZEw8"
      },
      "execution_count": 7,
      "outputs": []
    }
  ]
}